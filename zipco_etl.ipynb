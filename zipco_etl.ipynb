      "Installing collected packages: psycopg2\n",
      "Successfully installed psycopg2-2.9.10\n",
